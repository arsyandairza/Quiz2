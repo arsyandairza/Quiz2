{
  "cells": [
    {
      "cell_type": "markdown",
      "metadata": {
        "colab_type": "text",
        "id": "view-in-github"
      },
      "source": [
        "<a href=\"https://colab.research.google.com/github/JenioDwiSetyoFavianGian/MACHINE-LEARNING-2023/blob/main/Quiz2_JenioDwiSetyoFavianGian.ipynb\" target=\"_parent\"><img src=\"https://colab.research.google.com/assets/colab-badge.svg\" alt=\"Open In Colab\"/></a>"
      ]
    },
    {
      "cell_type": "markdown",
      "metadata": {
        "id": "PBmuisvnevXi"
      },
      "source": [
        "### Nama : Arsyanda Irza Rabbani Yuardhino\n",
        "### Kelas : TI - 3F\n",
        "### NIM : 2141720245"
      ]
    },
    {
      "cell_type": "code",
      "execution_count": 38,
      "metadata": {
        "id": "sIDPNzOux2Bx"
      },
      "outputs": [],
      "source": [
        "import tensorflow as tf # import tensorflow pustaka yg digunakan dalam ML dan AI\n",
        "import numpy as np # import numpy untuk komputasi numerik\n",
        "import pandas as pd # import pandas untuk manipulasi dan menganalisis data\n",
        "import matplotlib.pyplot as plt # import matplotlib untuk membuat visualisasi data\n",
        "import seaborn as sns # import seaborn untuk menyediakan antarmuka yg lebih mudah digunakan\n",
        "from sklearn.preprocessing import LabelBinarizer # import kelas LabelBinarizer untuk mengubah variabel kategori menjadi representasi biner\n",
        "from sklearn.model_selection import train_test_split # import fungsi train_test_split untuk membagi dataset menjadi subset pelatihan dan subset pengujian\n",
        "from sklearn.metrics import classification_report # import fungsi classification_report untuk menghasilkan laporan klasifikasi yang mencakup metrik evaluasi\n",
        "import zipfile # import modul zipfile untuk bekerja dengan file ZIP dalam python"
      ]
    },
    {
      "cell_type": "markdown",
      "metadata": {
        "id": "2XnB9UX4yHF7"
      },
      "source": [
        "#Load Dataset"
      ]
    },
    {
      "cell_type": "markdown",
      "metadata": {
        "id": "cLaRg64Jyrro"
      },
      "source": [
        "#Load MNIST"
      ]
    },
    {
      "cell_type": "code",
      "execution_count": 39,
      "metadata": {
        "id": "dS-XlEBJyuxr"
      },
      "outputs": [],
      "source": [
        "# import dataset mnist yg berisi gambar, angka dan tulisan tangan untuk pengujian\n",
        "from tensorflow.keras.datasets import mnist"
      ]
    },
    {
      "cell_type": "code",
      "execution_count": 40,
      "metadata": {
        "id": "Ww1OeRt6yvgb"
      },
      "outputs": [],
      "source": [
        "# memuat data pelatihan dan pengujian dari dataset mnist\n",
        "(train_data, train_labels), (test_data, test_labels) = mnist.load_data()"
      ]
    },
    {
      "cell_type": "code",
      "execution_count": 41,
      "metadata": {
        "colab": {
          "base_uri": "https://localhost:8080/"
        },
        "id": "L685bcwCyx_S",
        "outputId": "368dac5e-e800-435f-be0d-32bd182cc414"
      },
      "outputs": [
        {
          "data": {
            "text/plain": [
              "((60000, 28, 28), (10000, 28, 28))"
            ]
          },
          "execution_count": 41,
          "metadata": {},
          "output_type": "execute_result"
        }
      ],
      "source": [
        "# Check shape data\n",
        "#train_data.shape -> informasi ukuran data pelatihan\n",
        "#test_data.shape -> informasi ukuran data pelatihan\n",
        "(train_data.shape, test_data.shape)"
      ]
    },
    {
      "cell_type": "code",
      "execution_count": 42,
      "metadata": {
        "colab": {
          "base_uri": "https://localhost:8080/"
        },
        "id": "2JbE3swOyzzz",
        "outputId": "a18e31d3-ce5e-462d-bcc9-aaee104b021f"
      },
      "outputs": [
        {
          "data": {
            "text/plain": [
              "((60000,), (10000,))"
            ]
          },
          "execution_count": 42,
          "metadata": {},
          "output_type": "execute_result"
        }
      ],
      "source": [
        "# Check shape labels\n",
        "#train_labels.shape-> ukuran label pelatihan\n",
        "#test_labels.shape-> ukuran label pengujian\n",
        "(train_labels.shape, test_labels.shape)\n"
      ]
    },
    {
      "cell_type": "code",
      "execution_count": 43,
      "metadata": {
        "colab": {
          "base_uri": "https://localhost:8080/"
        },
        "id": "k-_shL5Ky1PN",
        "outputId": "704cb2e2-1003-4c00-fbe5-a75c7bdcc582"
      },
      "outputs": [
        {
          "data": {
            "text/plain": [
              "(28, 28)"
            ]
          },
          "execution_count": 43,
          "metadata": {},
          "output_type": "execute_result"
        }
      ],
      "source": [
        "# Check each data shape --> should be 28*28\n",
        "# cek bentuk data gambar pertama (indeks ke-0)\n",
        "train_data[0].shape\n"
      ]
    },
    {
      "cell_type": "code",
      "execution_count": 44,
      "metadata": {
        "colab": {
          "base_uri": "https://localhost:8080/"
        },
        "id": "jQ744pZFy2zP",
        "outputId": "4edde7d7-4444-4811-f1c5-d3570f21e8d1"
      },
      "outputs": [
        {
          "data": {
            "text/plain": [
              "(60000,)"
            ]
          },
          "execution_count": 44,
          "metadata": {},
          "output_type": "execute_result"
        }
      ],
      "source": [
        "# Check the label\n",
        "# cek ukuran label pelatihan\n",
        "train_labels.shape"
      ]
    },
    {
      "cell_type": "markdown",
      "metadata": {
        "id": "p0pxzVZ9y4S9"
      },
      "source": [
        "#Combine Train and Test Data"
      ]
    },
    {
      "cell_type": "code",
      "execution_count": 45,
      "metadata": {
        "id": "MzXR9lzby7qr"
      },
      "outputs": [],
      "source": [
        "digits_data = np.vstack([train_data, test_data]) # menggabungkan train_data dan test_data secara vertikal\n",
        "digits_labels = np.hstack([train_labels, test_labels]) # menggabungkan train_labels dan test_labels secara horizontal\n"
      ]
    },
    {
      "cell_type": "code",
      "execution_count": 46,
      "metadata": {
        "colab": {
          "base_uri": "https://localhost:8080/"
        },
        "id": "EQylVvjky9At",
        "outputId": "bcd9730c-eaa1-498f-f902-23befd1bf3b7"
      },
      "outputs": [
        {
          "data": {
            "text/plain": [
              "(70000, 28, 28)"
            ]
          },
          "execution_count": 46,
          "metadata": {},
          "output_type": "execute_result"
        }
      ],
      "source": [
        "# Check data shape\n",
        "# cek ukuran data (digits_data) setelah dilakukan penggabungan\n",
        "digits_data.shape"
      ]
    },
    {
      "cell_type": "code",
      "execution_count": 47,
      "metadata": {
        "colab": {
          "base_uri": "https://localhost:8080/"
        },
        "id": "gf-FYiLvy_Ie",
        "outputId": "022b1739-864f-402a-f7ff-55481438e272"
      },
      "outputs": [
        {
          "data": {
            "text/plain": [
              "(70000,)"
            ]
          },
          "execution_count": 47,
          "metadata": {},
          "output_type": "execute_result"
        }
      ],
      "source": [
        "# Check label shape\n",
        "# cek ukuran data label (digits_label) setelah dilakukan penggabungan\n",
        "digits_labels.shape"
      ]
    },
    {
      "cell_type": "code",
      "execution_count": 48,
      "metadata": {
        "colab": {
          "base_uri": "https://localhost:8080/",
          "height": 469
        },
        "id": "ZE9bVKY2zB0w",
        "outputId": "d374a67f-0e93-45be-d4e7-bf9bd53cf63a"
      },
      "outputs": [
        {
          "data": {
            "text/plain": [
              "Text(0.5, 1.0, 'Class: 4')"
            ]
          },
          "execution_count": 48,
          "metadata": {},
          "output_type": "execute_result"
        },
        {
          "data": {
            "image/png": "[encoded data removed]",
            "text/plain": [
              "<Figure size 640x480 with 1 Axes>"
            ]
          },
          "metadata": {},
          "output_type": "display_data"
        }
      ],
      "source": [
        "# Randomly checking the data\n",
        "idx = np.random.randint(0, digits_data.shape[0]) # menghasilkan sebuah bilangan bulat acak antara 0 dan digits_data.shape[0]. digits_data.shape[0] memberikan jumlah total sampel dalam dataset digits_data. Variabel idx akan menyimpan indeks acak ini.\n",
        "plt.imshow(digits_data[idx], cmap='gray') # untuk menampilkan gambar yang dipilih secara acak\n",
        "plt.title('Class: ' + str(digits_labels[idx])) # untuk menampilkan judul pada plot.\n"
      ]
    },
    {
      "cell_type": "code",
      "execution_count": 49,
      "metadata": {
        "colab": {
          "base_uri": "https://localhost:8080/",
          "height": 466
        },
        "id": "wptSqmQtzFwK",
        "outputId": "78e5c7a7-16d1-47e2-8530-f7908a60818e"
      },
      "outputs": [
        {
          "data": {
            "text/plain": [
              "<Axes: xlabel='Labels', ylabel='count'>"
            ]
          },
          "execution_count": 49,
          "metadata": {},
          "output_type": "execute_result"
        },
        {
          "data": {
            "image/png": "[encoded data removed]",
            "text/plain": [
              "<Figure size 640x480 with 1 Axes>"
            ]
          },
          "metadata": {},
          "output_type": "display_data"
        }
      ],
      "source": [
        "# Check data distribution\n",
        "df_labels = pd.DataFrame(digits_labels, columns=['Labels']) # untuk mengakses dan memanipulasi data label kelas menggunakan fitur-fitur pandas.\n",
        "sns.countplot(df_labels, x='Labels') # untuk membuat diagram batang"
      ]
    },
    {
      "cell_type": "markdown",
      "metadata": {
        "id": "uRzvqb1JzJNp"
      },
      "source": [
        "#Load Kaggle A-Z"
      ]
    },
    {
      "cell_type": "code",
      "execution_count": 50,
      "metadata": {
        "colab": {
          "base_uri": "https://localhost:8080/"
        },
        "id": "z1lxtqsgzI_B",
        "outputId": "4e7484ce-3393-4e4e-8984-6453b8026f5d"
      },
      "outputs": [
        {
          "name": "stdout",
          "output_type": "stream",
          "text": [
            "--2023-12-04 12:41:10--  https://iaexpert.academy/arquivos/alfabeto_A-Z.zip\n",
            "Resolving iaexpert.academy (iaexpert.academy)... 162.159.134.42\n",
            "Connecting to iaexpert.academy (iaexpert.academy)|162.159.134.42|:443... connected.\n",
            "HTTP request sent, awaiting response... 200 OK\n",
            "Length: 193643888 (185M) [application/zip]\n",
            "Saving to: ‘alfabeto_A-Z.zip.2’\n",
            "\n",
            "alfabeto_A-Z.zip.2  100%[===================>] 184.67M   178MB/s    in 1.0s    \n",
            "\n",
            "2023-12-04 12:41:11 (178 MB/s) - ‘alfabeto_A-Z.zip.2’ saved [193643888/193643888]\n",
            "\n"
          ]
        }
      ],
      "source": [
        "# download zip file\n",
        "!wget https://iaexpert.academy/arquivos/alfabeto_A-Z.zip"
      ]
    },
    {
      "cell_type": "code",
      "execution_count": 51,
      "metadata": {
        "id": "wyTQ6B5NzQyq"
      },
      "outputs": [],
      "source": [
        "# Extract zip file\n",
        "zip_object = zipfile.ZipFile(file = 'alfabeto_A-Z.zip', mode = 'r') # membuat objek dan menentukan nama file arsip zip yang diekstrak. mode='r' menunjukkan bahwa arsip tersebut dalam mode hanya baca\n",
        "zip_object.extractall('./') # untuk mengekstrak semua file dari arsip ZIP ke direktori saat ini. Argumen ./ menunjukkan bahwa file-file akan diekstrak ke direktori tempat kode ini dijalankan.\n",
        "zip_object.close() #  menutup objek zip_object setelah selesai mengekstrak file-file dari arsip ZIP\n"
      ]
    },
    {
      "cell_type": "code",
      "execution_count": 52,
      "metadata": {
        "colab": {
          "base_uri": "https://localhost:8080/",
          "height": 424
        },
        "id": "u7Jm6nL1zViR",
        "outputId": "571d0586-cf0c-4d81-997c-4dcd41e8e06b"
      },
      "outputs": [
        {
          "data": {
            "text/html": [
              "\n",
              "  <div id=\"df-31fc31c9-09e6-4086-a0df-058447aaa687\" class=\"colab-df-container\">\n",
              "    <div>\n",
              "<style scoped>\n",
              "    .dataframe tbody tr th:only-of-type {\n",
              "        vertical-align: middle;\n",
              "    }\n",
              "\n",
              "    .dataframe tbody tr th {\n",
              "        vertical-align: top;\n",
              "    }\n",
              "\n",
              "    .dataframe thead th {\n",
              "        text-align: right;\n",
              "    }\n",
              "</style>\n",
              "<table border=\"1\" class=\"dataframe\">\n",
              "  <thead>\n",
              "    <tr style=\"text-align: right;\">\n",
              "      <th></th>\n",
              "      <th>0</th>\n",
              "      <th>0.1</th>\n",
              "      <th>0.2</th>\n",
              "      <th>0.3</th>\n",
              "      <th>0.4</th>\n",
              "      <th>0.5</th>\n",
              "      <th>0.6</th>\n",
              "      <th>0.7</th>\n",
              "      <th>0.8</th>\n",
              "      <th>0.9</th>\n",
              "      <th>...</th>\n",
              "      <th>0.639</th>\n",
              "      <th>0.640</th>\n",
              "      <th>0.641</th>\n",
              "      <th>0.642</th>\n",
              "      <th>0.643</th>\n",
              "      <th>0.644</th>\n",
              "      <th>0.645</th>\n",
              "      <th>0.646</th>\n",
              "      <th>0.647</th>\n",
              "      <th>0.648</th>\n",
              "    </tr>\n",
              "  </thead>\n",
              "  <tbody>\n",
              "    <tr>\n",
              "      <th>0</th>\n",
              "      <td>0.0</td>\n",
              "      <td>0.0</td>\n",
              "      <td>0.0</td>\n",
              "      <td>0.0</td>\n",
              "      <td>0.0</td>\n",
              "      <td>0.0</td>\n",
              "      <td>0.0</td>\n",
              "      <td>0.0</td>\n",
              "      <td>0.0</td>\n",
              "      <td>0.0</td>\n",
              "      <td>...</td>\n",
              "      <td>0.0</td>\n",
              "      <td>0.0</td>\n",
              "      <td>0.0</td>\n",
              "      <td>0.0</td>\n",
              "      <td>0.0</td>\n",
              "      <td>0.0</td>\n",
              "      <td>0.0</td>\n",
              "      <td>0.0</td>\n",
              "      <td>0.0</td>\n",
              "      <td>0.0</td>\n",
              "    </tr>\n",
              "    <tr>\n",
              "      <th>1</th>\n",
              "      <td>0.0</td>\n",
              "      <td>0.0</td>\n",
              "      <td>0.0</td>\n",
              "      <td>0.0</td>\n",
              "      <td>0.0</td>\n",
              "      <td>0.0</td>\n",
              "      <td>0.0</td>\n",
              "      <td>0.0</td>\n",
              "      <td>0.0</td>\n",
              "      <td>0.0</td>\n",
              "      <td>...</td>\n",
              "      <td>0.0</td>\n",
              "      <td>0.0</td>\n",
              "      <td>0.0</td>\n",
              "      <td>0.0</td>\n",
              "      <td>0.0</td>\n",
              "      <td>0.0</td>\n",
              "      <td>0.0</td>\n",
              "      <td>0.0</td>\n",
              "      <td>0.0</td>\n",
              "      <td>0.0</td>\n",
              "    </tr>\n",
              "    <tr>\n",
              "      <th>2</th>\n",
              "      <td>0.0</td>\n",
              "      <td>0.0</td>\n",
              "      <td>0.0</td>\n",
              "      <td>0.0</td>\n",
              "      <td>0.0</td>\n",
              "      <td>0.0</td>\n",
              "      <td>0.0</td>\n",
              "      <td>0.0</td>\n",
              "      <td>0.0</td>\n",
              "      <td>0.0</td>\n",
              "      <td>...</td>\n",
              "      <td>0.0</td>\n",
              "      <td>0.0</td>\n",
              "      <td>0.0</td>\n",
              "      <td>0.0</td>\n",
              "      <td>0.0</td>\n",
              "      <td>0.0</td>\n",
              "      <td>0.0</td>\n",
              "      <td>0.0</td>\n",
              "      <td>0.0</td>\n",
              "      <td>0.0</td>\n",
              "    </tr>\n",
              "    <tr>\n",
              "      <th>3</th>\n",
              "      <td>0.0</td>\n",
              "      <td>0.0</td>\n",
              "      <td>0.0</td>\n",
              "      <td>0.0</td>\n",
              "      <td>0.0</td>\n",
              "      <td>0.0</td>\n",
              "      <td>0.0</td>\n",
              "      <td>0.0</td>\n",
              "      <td>0.0</td>\n",
              "      <td>0.0</td>\n",
              "      <td>...</td>\n",
              "      <td>0.0</td>\n",
              "      <td>0.0</td>\n",
              "      <td>0.0</td>\n",
              "      <td>0.0</td>\n",
              "      <td>0.0</td>\n",
              "      <td>0.0</td>\n",
              "      <td>0.0</td>\n",
              "      <td>0.0</td>\n",
              "      <td>0.0</td>\n",
              "      <td>0.0</td>\n",
              "    </tr>\n",
              "    <tr>\n",
              "      <th>4</th>\n",
              "      <td>0.0</td>\n",
              "      <td>0.0</td>\n",
              "      <td>0.0</td>\n",
              "      <td>0.0</td>\n",
              "      <td>0.0</td>\n",
              "      <td>0.0</td>\n",
              "      <td>0.0</td>\n",
              "      <td>0.0</td>\n",
              "      <td>0.0</td>\n",
              "      <td>0.0</td>\n",
              "      <td>...</td>\n",
              "      <td>0.0</td>\n",
              "      <td>0.0</td>\n",
              "      <td>0.0</td>\n",
              "      <td>0.0</td>\n",
              "      <td>0.0</td>\n",
              "      <td>0.0</td>\n",
              "      <td>0.0</td>\n",
              "      <td>0.0</td>\n",
              "      <td>0.0</td>\n",
              "      <td>0.0</td>\n",
              "    </tr>\n",
              "    <tr>\n",
              "      <th>...</th>\n",
              "      <td>...</td>\n",
              "      <td>...</td>\n",
              "      <td>...</td>\n",
              "      <td>...</td>\n",
              "      <td>...</td>\n",
              "      <td>...</td>\n",
              "      <td>...</td>\n",
              "      <td>...</td>\n",
              "      <td>...</td>\n",
              "      <td>...</td>\n",
              "      <td>...</td>\n",
              "      <td>...</td>\n",
              "      <td>...</td>\n",
              "      <td>...</td>\n",
              "      <td>...</td>\n",
              "      <td>...</td>\n",
              "      <td>...</td>\n",
              "      <td>...</td>\n",
              "      <td>...</td>\n",
              "      <td>...</td>\n",
              "      <td>...</td>\n",
              "    </tr>\n",
              "    <tr>\n",
              "      <th>372445</th>\n",
              "      <td>25.0</td>\n",
              "      <td>0.0</td>\n",
              "      <td>0.0</td>\n",
              "      <td>0.0</td>\n",
              "      <td>0.0</td>\n",
              "      <td>0.0</td>\n",
              "      <td>0.0</td>\n",
              "      <td>0.0</td>\n",
              "      <td>0.0</td>\n",
              "      <td>0.0</td>\n",
              "      <td>...</td>\n",
              "      <td>0.0</td>\n",
              "      <td>0.0</td>\n",
              "      <td>0.0</td>\n",
              "      <td>0.0</td>\n",
              "      <td>0.0</td>\n",
              "      <td>0.0</td>\n",
              "      <td>0.0</td>\n",
              "      <td>0.0</td>\n",
              "      <td>0.0</td>\n",
              "      <td>0.0</td>\n",
              "    </tr>\n",
              "    <tr>\n",
              "      <th>372446</th>\n",
              "      <td>25.0</td>\n",
              "      <td>0.0</td>\n",
              "      <td>0.0</td>\n",
              "      <td>0.0</td>\n",
              "      <td>0.0</td>\n",
              "      <td>0.0</td>\n",
              "      <td>0.0</td>\n",
              "      <td>0.0</td>\n",
              "      <td>0.0</td>\n",
              "      <td>0.0</td>\n",
              "      <td>...</td>\n",
              "      <td>0.0</td>\n",
              "      <td>0.0</td>\n",
              "      <td>0.0</td>\n",
              "      <td>0.0</td>\n",
              "      <td>0.0</td>\n",
              "      <td>0.0</td>\n",
              "      <td>0.0</td>\n",
              "      <td>0.0</td>\n",
              "      <td>0.0</td>\n",
              "      <td>0.0</td>\n",
              "    </tr>\n",
              "    <tr>\n",
              "      <th>372447</th>\n",
              "      <td>25.0</td>\n",
              "      <td>0.0</td>\n",
              "      <td>0.0</td>\n",
              "      <td>0.0</td>\n",
              "      <td>0.0</td>\n",
              "      <td>0.0</td>\n",
              "      <td>0.0</td>\n",
              "      <td>0.0</td>\n",
              "      <td>0.0</td>\n",
              "      <td>0.0</td>\n",
              "      <td>...</td>\n",
              "      <td>0.0</td>\n",
              "      <td>0.0</td>\n",
              "      <td>0.0</td>\n",
              "      <td>0.0</td>\n",
              "      <td>0.0</td>\n",
              "      <td>0.0</td>\n",
              "      <td>0.0</td>\n",
              "      <td>0.0</td>\n",
              "      <td>0.0</td>\n",
              "      <td>0.0</td>\n",
              "    </tr>\n",
              "    <tr>\n",
              "      <th>372448</th>\n",
              "      <td>25.0</td>\n",
              "      <td>0.0</td>\n",
              "      <td>0.0</td>\n",
              "      <td>0.0</td>\n",
              "      <td>0.0</td>\n",
              "      <td>0.0</td>\n",
              "      <td>0.0</td>\n",
              "      <td>0.0</td>\n",
              "      <td>0.0</td>\n",
              "      <td>0.0</td>\n",
              "      <td>...</td>\n",
              "      <td>0.0</td>\n",
              "      <td>0.0</td>\n",
              "      <td>0.0</td>\n",
              "      <td>0.0</td>\n",
              "      <td>0.0</td>\n",
              "      <td>0.0</td>\n",
              "      <td>0.0</td>\n",
              "      <td>0.0</td>\n",
              "      <td>0.0</td>\n",
              "      <td>0.0</td>\n",
              "    </tr>\n",
              "    <tr>\n",
              "      <th>372449</th>\n",
              "      <td>25.0</td>\n",
              "      <td>0.0</td>\n",
              "      <td>0.0</td>\n",
              "      <td>0.0</td>\n",
              "      <td>0.0</td>\n",
              "      <td>0.0</td>\n",
              "      <td>0.0</td>\n",
              "      <td>0.0</td>\n",
              "      <td>0.0</td>\n",
              "      <td>0.0</td>\n",
              "      <td>...</td>\n",
              "      <td>0.0</td>\n",
              "      <td>0.0</td>\n",
              "      <td>0.0</td>\n",
              "      <td>0.0</td>\n",
              "      <td>0.0</td>\n",
              "      <td>0.0</td>\n",
              "      <td>0.0</td>\n",
              "      <td>0.0</td>\n",
              "      <td>0.0</td>\n",
              "      <td>0.0</td>\n",
              "    </tr>\n",
              "  </tbody>\n",
              "</table>\n",
              "<p>372450 rows × 785 columns</p>\n",
              "</div>\n",
              "    <div class=\"colab-df-buttons\">\n",
              "\n",
              "  <div class=\"colab-df-container\">\n",
              "    <button class=\"colab-df-convert\" onclick=\"convertToInteractive('df-31fc31c9-09e6-4086-a0df-058447aaa687')\"\n",
              "            title=\"Convert this dataframe to an interactive table.\"\n",
              "            style=\"display:none;\">\n",
              "\n",
              "  <svg xmlns=\"http://www.w3.org/2000/svg\" height=\"24px\" viewBox=\"0 -960 960 960\">\n",
              "    <path d=\"M120-120v-720h720v720H120Zm60-500h600v-160H180v160Zm220 220h160v-160H400v160Zm0 220h160v-160H400v160ZM180-400h160v-160H180v160Zm440 0h160v-160H620v160ZM180-180h160v-160H180v160Zm440 0h160v-160H620v160Z\"/>\n",
              "  </svg>\n",
              "    </button>\n",
              "\n",
              "  <style>\n",
              "    .colab-df-container {\n",
              "      display:flex;\n",
              "      gap: 12px;\n",
              "    }\n",
              "\n",
              "    .colab-df-convert {\n",
              "      background-color: #E8F0FE;\n",
              "      border: none;\n",
              "      border-radius: 50%;\n",
              "      cursor: pointer;\n",
              "      display: none;\n",
              "      fill: #1967D2;\n",
              "      height: 32px;\n",
              "      padding: 0 0 0 0;\n",
              "      width: 32px;\n",
              "    }\n",
              "\n",
              "    .colab-df-convert:hover {\n",
              "      background-color: #E2EBFA;\n",
              "      box-shadow: 0px 1px 2px rgba(60, 64, 67, 0.3), 0px 1px 3px 1px rgba(60, 64, 67, 0.15);\n",
              "      fill: #174EA6;\n",
              "    }\n",
              "\n",
              "    .colab-df-buttons div {\n",
              "      margin-bottom: 4px;\n",
              "    }\n",
              "\n",
              "    [theme=dark] .colab-df-convert {\n",
              "      background-color: #3B4455;\n",
              "      fill: #D2E3FC;\n",
              "    }\n",
              "\n",
              "    [theme=dark] .colab-df-convert:hover {\n",
              "      background-color: #434B5C;\n",
              "      box-shadow: 0px 1px 3px 1px rgba(0, 0, 0, 0.15);\n",
              "      filter: drop-shadow(0px 1px 2px rgba(0, 0, 0, 0.3));\n",
              "      fill: #FFFFFF;\n",
              "    }\n",
              "  </style>\n",
              "\n",
              "    <script>\n",
              "      const buttonEl =\n",
              "        document.querySelector('#df-31fc31c9-09e6-4086-a0df-058447aaa687 button.colab-df-convert');\n",
              "      buttonEl.style.display =\n",
              "        google.colab.kernel.accessAllowed ? 'block' : 'none';\n",
              "\n",
              "      async function convertToInteractive(key) {\n",
              "        const element = document.querySelector('#df-31fc31c9-09e6-4086-a0df-058447aaa687');\n",
              "        const dataTable =\n",
              "          await google.colab.kernel.invokeFunction('convertToInteractive',\n",
              "                                                    [key], {});\n",
              "        if (!dataTable) return;\n",
              "\n",
              "        const docLinkHtml = 'Like what you see? Visit the ' +\n",
              "          '<a target=\"_blank\" href=https://colab.research.google.com/notebooks/data_table.ipynb>data table notebook</a>'\n",
              "          + ' to learn more about interactive tables.';\n",
              "        element.innerHTML = '';\n",
              "        dataTable['output_type'] = 'display_data';\n",
              "        await google.colab.output.renderOutput(dataTable, element);\n",
              "        const docLink = document.createElement('div');\n",
              "        docLink.innerHTML = docLinkHtml;\n",
              "        element.appendChild(docLink);\n",
              "      }\n",
              "    </script>\n",
              "  </div>\n",
              "\n",
              "\n",
              "<div id=\"df-bf766e62-a4bc-4140-b3e9-b70a85516e17\">\n",
              "  <button class=\"colab-df-quickchart\" onclick=\"quickchart('df-bf766e62-a4bc-4140-b3e9-b70a85516e17')\"\n",
              "            title=\"Suggest charts\"\n",
              "            style=\"display:none;\">\n",
              "\n",
              "<svg xmlns=\"http://www.w3.org/2000/svg\" height=\"24px\"viewBox=\"0 0 24 24\"\n",
              "     width=\"24px\">\n",
              "    <g>\n",
              "        <path d=\"M19 3H5c-1.1 0-2 .9-2 2v14c0 1.1.9 2 2 2h14c1.1 0 2-.9 2-2V5c0-1.1-.9-2-2-2zM9 17H7v-7h2v7zm4 0h-2V7h2v10zm4 0h-2v-4h2v4z\"/>\n",
              "    </g>\n",
              "</svg>\n",
              "  </button>\n",
              "\n",
              "<style>\n",
              "  .colab-df-quickchart {\n",
              "      --bg-color: #E8F0FE;\n",
              "      --fill-color: #1967D2;\n",
              "      --hover-bg-color: #E2EBFA;\n",
              "      --hover-fill-color: #174EA6;\n",
              "      --disabled-fill-color: #AAA;\n",
              "      --disabled-bg-color: #DDD;\n",
              "  }\n",
              "\n",
              "  [theme=dark] .colab-df-quickchart {\n",
              "      --bg-color: #3B4455;\n",
              "      --fill-color: #D2E3FC;\n",
              "      --hover-bg-color: #434B5C;\n",
              "      --hover-fill-color: #FFFFFF;\n",
              "      --disabled-bg-color: #3B4455;\n",
              "      --disabled-fill-color: #666;\n",
              "  }\n",
              "\n",
              "  .colab-df-quickchart {\n",
              "    background-color: var(--bg-color);\n",
              "    border: none;\n",
              "    border-radius: 50%;\n",
              "    cursor: pointer;\n",
              "    display: none;\n",
              "    fill: var(--fill-color);\n",
              "    height: 32px;\n",
              "    padding: 0;\n",
              "    width: 32px;\n",
              "  }\n",
              "\n",
              "  .colab-df-quickchart:hover {\n",
              "    background-color: var(--hover-bg-color);\n",
              "    box-shadow: 0 1px 2px rgba(60, 64, 67, 0.3), 0 1px 3px 1px rgba(60, 64, 67, 0.15);\n",
              "    fill: var(--button-hover-fill-color);\n",
              "  }\n",
              "\n",
              "  .colab-df-quickchart-complete:disabled,\n",
              "  .colab-df-quickchart-complete:disabled:hover {\n",
              "    background-color: var(--disabled-bg-color);\n",
              "    fill: var(--disabled-fill-color);\n",
              "    box-shadow: none;\n",
              "  }\n",
              "\n",
              "  .colab-df-spinner {\n",
              "    border: 2px solid var(--fill-color);\n",
              "    border-color: transparent;\n",
              "    border-bottom-color: var(--fill-color);\n",
              "    animation:\n",
              "      spin 1s steps(1) infinite;\n",
              "  }\n",
              "\n",
              "  @keyframes spin {\n",
              "    0% {\n",
              "      border-color: transparent;\n",
              "      border-bottom-color: var(--fill-color);\n",
              "      border-left-color: var(--fill-color);\n",
              "    }\n",
              "    20% {\n",
              "      border-color: transparent;\n",
              "      border-left-color: var(--fill-color);\n",
              "      border-top-color: var(--fill-color);\n",
              "    }\n",
              "    30% {\n",
              "      border-color: transparent;\n",
              "      border-left-color: var(--fill-color);\n",
              "      border-top-color: var(--fill-color);\n",
              "      border-right-color: var(--fill-color);\n",
              "    }\n",
              "    40% {\n",
              "      border-color: transparent;\n",
              "      border-right-color: var(--fill-color);\n",
              "      border-top-color: var(--fill-color);\n",
              "    }\n",
              "    60% {\n",
              "      border-color: transparent;\n",
              "      border-right-color: var(--fill-color);\n",
              "    }\n",
              "    80% {\n",
              "      border-color: transparent;\n",
              "      border-right-color: var(--fill-color);\n",
              "      border-bottom-color: var(--fill-color);\n",
              "    }\n",
              "    90% {\n",
              "      border-color: transparent;\n",
              "      border-bottom-color: var(--fill-color);\n",
              "    }\n",
              "  }\n",
              "</style>\n",
              "\n",
              "  <script>\n",
              "    async function quickchart(key) {\n",
              "      const quickchartButtonEl =\n",
              "        document.querySelector('#' + key + ' button');\n",
              "      quickchartButtonEl.disabled = true;  // To prevent multiple clicks.\n",
              "      quickchartButtonEl.classList.add('colab-df-spinner');\n",
              "      try {\n",
              "        const charts = await google.colab.kernel.invokeFunction(\n",
              "            'suggestCharts', [key], {});\n",
              "      } catch (error) {\n",
              "        console.error('Error during call to suggestCharts:', error);\n",
              "      }\n",
              "      quickchartButtonEl.classList.remove('colab-df-spinner');\n",
              "      quickchartButtonEl.classList.add('colab-df-quickchart-complete');\n",
              "    }\n",
              "    (() => {\n",
              "      let quickchartButtonEl =\n",
              "        document.querySelector('#df-bf766e62-a4bc-4140-b3e9-b70a85516e17 button');\n",
              "      quickchartButtonEl.style.display =\n",
              "        google.colab.kernel.accessAllowed ? 'block' : 'none';\n",
              "    })();\n",
              "  </script>\n",
              "</div>\n",
              "    </div>\n",
              "  </div>\n"
            ],
            "text/plain": [
              "           0  0.1  0.2  0.3  0.4  0.5  0.6  0.7  0.8  0.9  ...  0.639  0.640  \\\n",
              "0        0.0  0.0  0.0  0.0  0.0  0.0  0.0  0.0  0.0  0.0  ...    0.0    0.0   \n",
              "1        0.0  0.0  0.0  0.0  0.0  0.0  0.0  0.0  0.0  0.0  ...    0.0    0.0   \n",
              "2        0.0  0.0  0.0  0.0  0.0  0.0  0.0  0.0  0.0  0.0  ...    0.0    0.0   \n",
              "3        0.0  0.0  0.0  0.0  0.0  0.0  0.0  0.0  0.0  0.0  ...    0.0    0.0   \n",
              "4        0.0  0.0  0.0  0.0  0.0  0.0  0.0  0.0  0.0  0.0  ...    0.0    0.0   \n",
              "...      ...  ...  ...  ...  ...  ...  ...  ...  ...  ...  ...    ...    ...   \n",
              "372445  25.0  0.0  0.0  0.0  0.0  0.0  0.0  0.0  0.0  0.0  ...    0.0    0.0   \n",
              "372446  25.0  0.0  0.0  0.0  0.0  0.0  0.0  0.0  0.0  0.0  ...    0.0    0.0   \n",
              "372447  25.0  0.0  0.0  0.0  0.0  0.0  0.0  0.0  0.0  0.0  ...    0.0    0.0   \n",
              "372448  25.0  0.0  0.0  0.0  0.0  0.0  0.0  0.0  0.0  0.0  ...    0.0    0.0   \n",
              "372449  25.0  0.0  0.0  0.0  0.0  0.0  0.0  0.0  0.0  0.0  ...    0.0    0.0   \n",
              "\n",
              "        0.641  0.642  0.643  0.644  0.645  0.646  0.647  0.648  \n",
              "0         0.0    0.0    0.0    0.0    0.0    0.0    0.0    0.0  \n",
              "1         0.0    0.0    0.0    0.0    0.0    0.0    0.0    0.0  \n",
              "2         0.0    0.0    0.0    0.0    0.0    0.0    0.0    0.0  \n",
              "3         0.0    0.0    0.0    0.0    0.0    0.0    0.0    0.0  \n",
              "4         0.0    0.0    0.0    0.0    0.0    0.0    0.0    0.0  \n",
              "...       ...    ...    ...    ...    ...    ...    ...    ...  \n",
              "372445    0.0    0.0    0.0    0.0    0.0    0.0    0.0    0.0  \n",
              "372446    0.0    0.0    0.0    0.0    0.0    0.0    0.0    0.0  \n",
              "372447    0.0    0.0    0.0    0.0    0.0    0.0    0.0    0.0  \n",
              "372448    0.0    0.0    0.0    0.0    0.0    0.0    0.0    0.0  \n",
              "372449    0.0    0.0    0.0    0.0    0.0    0.0    0.0    0.0  \n",
              "\n",
              "[372450 rows x 785 columns]"
            ]
          },
          "execution_count": 52,
          "metadata": {},
          "output_type": "execute_result"
        }
      ],
      "source": [
        "dataset_az = pd.read_csv('A_Z Handwritten Data.csv').astype('float32') # menggunakan fungsi read_csv dari pustaka pandas untuk membaca file CSV dan mengubah tipe data dalma dataset_az menjadi 'float32'\n",
        "dataset_az # menampilkan dataset"
      ]
    },
    {
      "cell_type": "code",
      "execution_count": 53,
      "metadata": {
        "id": "RZ5adNTrzXbc"
      },
      "outputs": [],
      "source": [
        "# Get pixel data only\n",
        "# memisahkan data piksel, hapus kolom '0' yang merupakan label\n",
        "alphabet_data = dataset_az.drop('0', axis=1)\n",
        "\n",
        "# Get labels only\n",
        "# memisahkan label, amnil kolom '0'\n",
        "alphabet_labels = dataset_az['0']"
      ]
    },
    {
      "cell_type": "code",
      "execution_count": 54,
      "metadata": {
        "colab": {
          "base_uri": "https://localhost:8080/"
        },
        "id": "SGefFb7RzZD2",
        "outputId": "3e10b63b-e1c1-431d-a868-9a4d9da91a5a"
      },
      "outputs": [
        {
          "data": {
            "text/plain": [
              "((372450, 784), (372450,))"
            ]
          },
          "execution_count": 54,
          "metadata": {},
          "output_type": "execute_result"
        }
      ],
      "source": [
        "# Check shape data\n",
        "# cek kembali bentuk /jumlah data\n",
        "alphabet_data.shape, alphabet_labels.shape"
      ]
    },
    {
      "cell_type": "code",
      "execution_count": 55,
      "metadata": {
        "colab": {
          "base_uri": "https://localhost:8080/"
        },
        "id": "3piWekdnzaet",
        "outputId": "f08b1c72-a6fb-4f79-ef59-a2e0484a7397"
      },
      "outputs": [
        {
          "data": {
            "text/plain": [
              "(372450,)"
            ]
          },
          "execution_count": 55,
          "metadata": {},
          "output_type": "execute_result"
        }
      ],
      "source": [
        "# Check shape labels\n",
        "# cek bentuk label\n",
        "alphabet_labels.shape"
      ]
    },
    {
      "cell_type": "code",
      "execution_count": 56,
      "metadata": {
        "colab": {
          "base_uri": "https://localhost:8080/"
        },
        "id": "e_DIj2XZzb46",
        "outputId": "3a34a97e-4e90-4764-bccf-9fca6085284d"
      },
      "outputs": [
        {
          "data": {
            "text/plain": [
              "(372450, 28, 28)"
            ]
          },
          "execution_count": 56,
          "metadata": {},
          "output_type": "execute_result"
        }
      ],
      "source": [
        "# Reshape pixel data to 28*28\n",
        "#Ubah pixel gambar jadi 28*28 2dimensi\n",
        "alphabet_data = np.reshape(alphabet_data.values, (alphabet_data.shape[0], 28, 28))\n",
        "\n",
        "# Check the result by its shape\n",
        "#cek kembali stelah perubahan ukuran pixel\n",
        "alphabet_data.shape"
      ]
    },
    {
      "cell_type": "code",
      "execution_count": 57,
      "metadata": {
        "colab": {
          "base_uri": "https://localhost:8080/",
          "height": 452
        },
        "id": "y40tlFy3zdoc",
        "outputId": "a506663b-0fe5-4350-e1cb-c6e5c8952ea8"
      },
      "outputs": [
        {
          "data": {
            "image/png": "[encoded data removed]",
            "text/plain": [
              "<Figure size 640x480 with 1 Axes>"
            ]
          },
          "metadata": {},
          "output_type": "display_data"
        }
      ],
      "source": [
        "# Randomly checking A-Z dataset\n",
        "# buat indeks acak\n",
        "index = np.random.randint(0, alphabet_data.shape[0])\n",
        "\n",
        "# menampilkan gambar yang sudah dicek acak\n",
        "plt.imshow(alphabet_data[index], cmap = 'gray')\n",
        "\n",
        "# menampilkan judul dengan nama label\n",
        "plt.title('Class: ' + str(alphabet_labels[index]));"
      ]
    },
    {
      "cell_type": "code",
      "execution_count": 58,
      "metadata": {
        "colab": {
          "base_uri": "https://localhost:8080/",
          "height": 468
        },
        "id": "eB9CkzmVzfV5",
        "outputId": "2494ca8b-2bef-4944-860e-ec87ba9c06d9"
      },
      "outputs": [
        {
          "data": {
            "text/plain": [
              "<Axes: xlabel='Labels', ylabel='count'>"
            ]
          },
          "execution_count": 58,
          "metadata": {},
          "output_type": "execute_result"
        },
        {
          "data": {
            "image/png": "[encoded data removed]",
            "text/plain": [
              "<Figure size 640x480 with 1 Axes>"
            ]
          },
          "metadata": {},
          "output_type": "display_data"
        }
      ],
      "source": [
        "# Check data distribution\n",
        "\n",
        "# memebuat dataframe baru dari label dataset A-Z\n",
        "df_az_labels = pd.DataFrame({\n",
        "    'Labels': alphabet_labels.values\n",
        "})\n",
        "\n",
        "# membuat counplot untuk menunjukkan sebaran jumlah setiap karakter dataset\n",
        "sns.countplot(df_az_labels, x='Labels')"
      ]
    },
    {
      "cell_type": "markdown",
      "metadata": {
        "id": "z9FLy8_nzroe"
      },
      "source": [
        "#Combine Dataset (MNIST + Kaggel A-Z)"
      ]
    },
    {
      "cell_type": "code",
      "execution_count": 59,
      "metadata": {
        "colab": {
          "base_uri": "https://localhost:8080/"
        },
        "id": "9LufiUz9zuDL",
        "outputId": "6e8326f4-f208-4a46-960c-0f060a0888de"
      },
      "outputs": [
        {
          "data": {
            "text/plain": [
              "array([0, 1, 2, 3, 4, 5, 6, 7, 8, 9], dtype=uint8)"
            ]
          },
          "execution_count": 59,
          "metadata": {},
          "output_type": "execute_result"
        }
      ],
      "source": [
        "# Check unique value from digits_labels\n",
        "# get nilai unik dari array dari digits-label\n",
        "np.unique(digits_labels)"
      ]
    },
    {
      "cell_type": "code",
      "execution_count": 60,
      "metadata": {
        "colab": {
          "base_uri": "https://localhost:8080/"
        },
        "id": "Px5iLNC2zv1k",
        "outputId": "f7e57bf7-4815-4634-cad6-07c79f35eb97"
      },
      "outputs": [
        {
          "data": {
            "text/plain": [
              "array([ 0.,  1.,  2.,  3.,  4.,  5.,  6.,  7.,  8.,  9., 10., 11., 12.,\n",
              "       13., 14., 15., 16., 17., 18., 19., 20., 21., 22., 23., 24., 25.],\n",
              "      dtype=float32)"
            ]
          },
          "execution_count": 60,
          "metadata": {},
          "output_type": "execute_result"
        }
      ],
      "source": [
        "# Check unique value from alphabet_labels\n",
        "# get nilai unik dari array alphabet_labels\n",
        "np.unique(alphabet_labels)"
      ]
    },
    {
      "cell_type": "code",
      "execution_count": 61,
      "metadata": {
        "id": "RuBnhGOpzxeX"
      },
      "outputs": [],
      "source": [
        "# We already know that digits labels containt labels from 0-9 (10 labels)\n",
        "# We also know that alphabet labels start from 0-25 which represent A-Z\n",
        "# If we want to combine them, the A-Z labels should continuing the digits label\n",
        "\n",
        "#buat label karakterA-Z dimulai dari nilai 10-35 agar bisa melanjutkan label digit\n",
        "alphabet_labels += 10"
      ]
    },
    {
      "cell_type": "code",
      "execution_count": 62,
      "metadata": {
        "colab": {
          "base_uri": "https://localhost:8080/"
        },
        "id": "Ymk6L_hvzy7y",
        "outputId": "2c58aed5-477a-45ff-ddfa-3074c1f4f8ae"
      },
      "outputs": [
        {
          "data": {
            "text/plain": [
              "array([10., 11., 12., 13., 14., 15., 16., 17., 18., 19., 20., 21., 22.,\n",
              "       23., 24., 25., 26., 27., 28., 29., 30., 31., 32., 33., 34., 35.],\n",
              "      dtype=float32)"
            ]
          },
          "execution_count": 62,
          "metadata": {},
          "output_type": "execute_result"
        }
      ],
      "source": [
        "# check alphabet labels again\n",
        "np.unique(alphabet_labels)"
      ]
    },
    {
      "cell_type": "code",
      "execution_count": 63,
      "metadata": {
        "id": "cTO_pfR-z0tT"
      },
      "outputs": [],
      "source": [
        "# Combine both of them\n",
        "data = np.vstack([alphabet_data, digits_data]) # menggabungkan data A-Z\n",
        "\n",
        "labels = np.hstack([alphabet_labels, digits_labels]) # #menggabungkan label A-Z"
      ]
    },
    {
      "cell_type": "code",
      "execution_count": 64,
      "metadata": {
        "colab": {
          "base_uri": "https://localhost:8080/"
        },
        "id": "xb77-ah6z27J",
        "outputId": "e7aba88b-7dd1-484e-b069-f9260eb8e3a0"
      },
      "outputs": [
        {
          "data": {
            "text/plain": [
              "((442450, 28, 28), (442450,))"
            ]
          },
          "execution_count": 64,
          "metadata": {},
          "output_type": "execute_result"
        }
      ],
      "source": [
        "# Check the shape\n",
        "data.shape, labels.shape # cek bentuk ukuran data kemabli"
      ]
    },
    {
      "cell_type": "code",
      "execution_count": 65,
      "metadata": {
        "colab": {
          "base_uri": "https://localhost:8080/"
        },
        "id": "yf7wSRLGz4WE",
        "outputId": "3639f67b-bc25-4593-d2e7-9b31074631a9"
      },
      "outputs": [
        {
          "data": {
            "text/plain": [
              "array([ 0.,  1.,  2.,  3.,  4.,  5.,  6.,  7.,  8.,  9., 10., 11., 12.,\n",
              "       13., 14., 15., 16., 17., 18., 19., 20., 21., 22., 23., 24., 25.,\n",
              "       26., 27., 28., 29., 30., 31., 32., 33., 34., 35.], dtype=float32)"
            ]
          },
          "execution_count": 65,
          "metadata": {},
          "output_type": "execute_result"
        }
      ],
      "source": [
        "# Check labels\n",
        "np.unique(labels)"
      ]
    },
    {
      "cell_type": "code",
      "execution_count": 66,
      "metadata": {
        "id": "Zkw1Ovjpz5ti"
      },
      "outputs": [],
      "source": [
        "# Convert data to float32\n",
        "data = np.array(data, dtype = 'float32')"
      ]
    },
    {
      "cell_type": "code",
      "execution_count": 67,
      "metadata": {
        "colab": {
          "base_uri": "https://localhost:8080/"
        },
        "id": "kDpHzGtwz7GV",
        "outputId": "45287686-c800-423a-e8ec-ee82d7857a59"
      },
      "outputs": [
        {
          "data": {
            "text/plain": [
              "(442450, 28, 28, 1)"
            ]
          },
          "execution_count": 67,
          "metadata": {},
          "output_type": "execute_result"
        }
      ],
      "source": [
        "# Since Convolutional need 3d data (including depth)\n",
        "# and our images only in 2d data (because in grayscale format)\n",
        "# we need to add \"the depth\" to the data\n",
        "data = np.expand_dims(data, axis=-1) # menambahkan dimensi baru karen memebutuhkan data 3D\n",
        "\n",
        "# check shape\n",
        "data.shape"
      ]
    },
    {
      "cell_type": "markdown",
      "metadata": {
        "id": "EvUOJNgez83k"
      },
      "source": [
        "#Preprocessing"
      ]
    },
    {
      "cell_type": "code",
      "execution_count": 68,
      "metadata": {
        "id": "JhZ4pePC0AM7"
      },
      "outputs": [],
      "source": [
        "# Normalize data\n",
        "data /= 255.0 # #bagi data dengan 255 untuk konversi nilai pixel menjadi rentang 0-10"
      ]
    },
    {
      "cell_type": "code",
      "execution_count": 69,
      "metadata": {
        "colab": {
          "base_uri": "https://localhost:8080/"
        },
        "id": "EkNWkU8t0Bp4",
        "outputId": "ba81295e-034a-492e-f1fc-c62947840927"
      },
      "outputs": [
        {
          "data": {
            "text/plain": [
              "(0.0, 1.0)"
            ]
          },
          "execution_count": 69,
          "metadata": {},
          "output_type": "execute_result"
        }
      ],
      "source": [
        "# Check range value of data\n",
        "data[0].min(), data[0].max()"
      ]
    },
    {
      "cell_type": "markdown",
      "metadata": {
        "id": "rbuKP-PL0Fja"
      },
      "source": [
        "Normalisasi berhasil, rentang pixel saat ini sudah antara 0 dan 1"
      ]
    },
    {
      "cell_type": "code",
      "execution_count": 70,
      "metadata": {
        "id": "24BwesU50HMs"
      },
      "outputs": [],
      "source": [
        "# Enconde the labels\n",
        "# LabelBinarizer similar with OneHotEncoder\n",
        "le = LabelBinarizer() # konfersi label kelas menjadi biner\n",
        "labels = le.fit_transform(labels)"
      ]
    },
    {
      "cell_type": "code",
      "execution_count": 71,
      "metadata": {
        "colab": {
          "base_uri": "https://localhost:8080/"
        },
        "id": "uyc53udA0Il7",
        "outputId": "522a61d1-9cab-4a89-d324-ca4f3ca2c1e6"
      },
      "outputs": [
        {
          "data": {
            "text/plain": [
              "(442450, 36)"
            ]
          },
          "execution_count": 71,
          "metadata": {},
          "output_type": "execute_result"
        }
      ],
      "source": [
        "# Check labels shape\n",
        "labels.shape"
      ]
    },
    {
      "cell_type": "markdown",
      "metadata": {
        "id": "_RlWu5TS0KTb"
      },
      "source": [
        "Terdapat 442450 sampel dan direpresentasikan deng panjang vektor 36. (26 untuk karakter A-Z, 10 Kelas untuk digit 0-9)"
      ]
    },
    {
      "cell_type": "code",
      "execution_count": 72,
      "metadata": {
        "colab": {
          "base_uri": "https://localhost:8080/",
          "height": 469
        },
        "id": "MNRi0LBB0NRi",
        "outputId": "c59a08d0-ff4d-40da-ae31-dcec1eb6bf59"
      },
      "outputs": [
        {
          "data": {
            "text/plain": [
              "Text(0.5, 1.0, '[0 0 0 0 0 0 0 0 0 0 1 0 0 0 0 0 0 0 0 0 0 0 0 0 0 0 0 0 0 0 0 0 0 0 0 0]')"
            ]
          },
          "execution_count": 72,
          "metadata": {},
          "output_type": "execute_result"
        },
        {
          "data": {
            "image/png": "[encoded data removed]",
            "text/plain": [
              "<Figure size 640x480 with 1 Axes>"
            ]
          },
          "metadata": {},
          "output_type": "display_data"
        }
      ],
      "source": [
        "# Check data with label binarizer's label\n",
        "plt.imshow(data[30000].reshape(28,28), cmap='gray') # menampilkan gamabr dari indeks 30000\n",
        "plt.title(str(labels[0])) # memberi judul"
      ]
    },
    {
      "cell_type": "code",
      "execution_count": 73,
      "metadata": {
        "colab": {
          "base_uri": "https://localhost:8080/"
        },
        "id": "ieEaUHgl0PMU",
        "outputId": "cc8a8fb5-2591-47f1-cb0e-6a37da8fc006"
      },
      "outputs": [
        {
          "data": {
            "text/plain": [
              "array([ 6903,  7877,  6990,  7141,  6824,  6313,  6876,  7293,  6825,\n",
              "        6958, 13869,  8668, 23409, 10134, 11440,  1163,  5762,  7218,\n",
              "        1120,  8493,  5603, 11586, 12336, 19010, 57825, 19341,  5812,\n",
              "       11566, 48419, 22495, 29008,  4182, 10784,  6272, 10859,  6076])"
            ]
          },
          "execution_count": 73,
          "metadata": {},
          "output_type": "execute_result"
        }
      ],
      "source": [
        "# Since our data is not balance, we will handle it by giving weight for 'small' data\n",
        "\n",
        "# Check number of data for each labels first\n",
        "classes_total = labels.sum(axis = 0) # cek total jumlah masing2 kelas dalam dataset\n",
        "classes_total"
      ]
    },
    {
      "cell_type": "code",
      "execution_count": 74,
      "metadata": {
        "colab": {
          "base_uri": "https://localhost:8080/"
        },
        "id": "47GsFXq00Q4A",
        "outputId": "e8160073-3474-40f5-a430-d9f3b42adad7"
      },
      "outputs": [
        {
          "data": {
            "text/plain": [
              "57825"
            ]
          },
          "execution_count": 74,
          "metadata": {},
          "output_type": "execute_result"
        }
      ],
      "source": [
        "# Check the biggest value of data\n",
        "classes_total.max() # cek data terbesar"
      ]
    },
    {
      "cell_type": "code",
      "execution_count": 75,
      "metadata": {
        "colab": {
          "base_uri": "https://localhost:8080/"
        },
        "id": "uKlY-zLL0SXU",
        "outputId": "14268187-dc14-4d8b-dbb6-c862a4cb2a07"
      },
      "outputs": [
        {
          "data": {
            "text/plain": [
              "{0: 8.376792698826597,\n",
              " 1: 7.340992763742541,\n",
              " 2: 8.272532188841202,\n",
              " 3: 8.097605377398123,\n",
              " 4: 8.473769050410317,\n",
              " 5: 9.15967052114684,\n",
              " 6: 8.409685863874346,\n",
              " 7: 7.928835870012341,\n",
              " 8: 8.472527472527473,\n",
              " 9: 8.310577752227651,\n",
              " 10: 4.169370538611291,\n",
              " 11: 6.671089063221043,\n",
              " 12: 2.4702037677816224,\n",
              " 13: 5.7060390763765545,\n",
              " 14: 5.0546328671328675,\n",
              " 15: 49.72055030094583,\n",
              " 16: 10.035577924331829,\n",
              " 17: 8.011221945137157,\n",
              " 18: 51.629464285714285,\n",
              " 19: 6.808548216178029,\n",
              " 20: 10.320364090665715,\n",
              " 21: 4.990937338166753,\n",
              " 22: 4.6875,\n",
              " 23: 3.0418200946870066,\n",
              " 24: 1.0,\n",
              " 25: 2.989762680316426,\n",
              " 26: 9.94924294562973,\n",
              " 27: 4.999567698426422,\n",
              " 28: 1.1942625828703608,\n",
              " 29: 2.5705712380529007,\n",
              " 30: 1.993415609487038,\n",
              " 31: 13.827116212338593,\n",
              " 32: 5.362110534124629,\n",
              " 33: 9.21954719387755,\n",
              " 34: 5.3250759738465785,\n",
              " 35: 9.51695194206715}"
            ]
          },
          "execution_count": 75,
          "metadata": {},
          "output_type": "execute_result"
        }
      ],
      "source": [
        "# Create a weight for each data\n",
        "classes_weights = {}#inisialisasi\n",
        "for i in range(0, len(classes_total)):#iterasi tiap kelas\n",
        "  #print(i)\n",
        "  # invers proporsional dengan jumlah sampel pada kelas tersebut,\n",
        "  # sehingga kelas dengan lebih sedikit sampel mendapatkan bobot yang lebih tinggi.\n",
        "  classes_weights[i] = classes_total.max() / classes_total[i]\n",
        "\n",
        "# Check the weight for each data\n",
        "classes_weights"
      ]
    },
    {
      "cell_type": "markdown",
      "metadata": {
        "id": "ii-b3ycH0UJu"
      },
      "source": [
        "#Split Data to Train and Test"
      ]
    },
    {
      "cell_type": "code",
      "execution_count": 76,
      "metadata": {
        "id": "1L_cH7oM0X7G"
      },
      "outputs": [],
      "source": [
        "# pisah dataset jadi 20 (uji):80 (pelatihan)\n",
        "# Argumen stratify digunakan untuk memastikan proporsi kelas yang seimbang di kedua subset\n",
        "X_train, X_test, y_train, y_test = train_test_split(data, labels, test_size = 0.2, random_state = 1, stratify = labels)"
      ]
    },
    {
      "cell_type": "markdown",
      "metadata": {
        "id": "6RO7CXKe0aJY"
      },
      "source": [
        "#Create Data Augmentation"
      ]
    },
    {
      "cell_type": "code",
      "execution_count": 77,
      "metadata": {
        "id": "l3yZ2Bql0cih"
      },
      "outputs": [],
      "source": [
        "# Import library\n",
        "from tensorflow.keras.preprocessing.image import ImageDataGenerator # untuk menghasilkan variasi gambar dari dataset asli"
      ]
    },
    {
      "cell_type": "code",
      "execution_count": 78,
      "metadata": {
        "id": "Dpd5F0X605os"
      },
      "outputs": [],
      "source": [
        "# membuat ibjek image datagenerator\n",
        "augmentation = ImageDataGenerator(rotation_range = 10, # rentang rotasi gambar\n",
        "                                  zoom_range=0.05,  # rentang zoom\n",
        "                                  width_shift_range=0.1, # rentang pergeseran lebar gambr\n",
        "                                  height_shift_range=0.1, # rentang pergeseran tinggi gambar\n",
        "                                  horizontal_flip = False) # pemutaran horizontal gambar"
      ]
    },
    {
      "cell_type": "markdown",
      "metadata": {
        "id": "KvK_50Bd08JB"
      },
      "source": [
        "#Build CNN Model"
      ]
    },
    {
      "cell_type": "code",
      "execution_count": 79,
      "metadata": {
        "id": "XWRNdNYT0_na"
      },
      "outputs": [],
      "source": [
        "# Import library\n",
        "from tensorflow.keras.models import Sequential # membuat model sequential, terdiri dari bbrpa layers\n",
        "\n",
        " # lapisan convolusi untuk proses gambar\n",
        " # MaxPool2D untuk pengurangan dimensi\n",
        " # Flatten untuk meratakan output jadi satu dimensi\n",
        " # dense: lapisan neurak network\n",
        " # modelcheck point: callback, simpan model selama pelatihan\n",
        "from tensorflow.keras.layers import Conv2D, MaxPool2D, Flatten, Dense\n",
        "from tensorflow.keras.callbacks import ModelCheckpoint #"
      ]
    },
    {
      "cell_type": "code",
      "execution_count": 80,
      "metadata": {
        "id": "Cu8Q8-Mx1CtA"
      },
      "outputs": [],
      "source": [
        "# Build the network\n",
        "# Membuat objek Sequential untuk membangun model secara berurutan\n",
        "network = Sequential()\n",
        "\n",
        "# Menambahkan lapisan konvolusi pertama\n",
        "network.add(Conv2D(filters = 32, kernel_size=(3,3), activation='relu', input_shape=(28,28,1)))\n",
        "\n",
        "# Menambahkan lapisan pooling untuk mereduksi dimensi\n",
        "network.add(MaxPool2D(pool_size=(2,2)))\n",
        "\n",
        "# Menambahkan lapisan konvolusi kedua\n",
        "network.add(Conv2D(filters = 64, kernel_size=(3,3), activation='relu', padding='same'))\n",
        "\n",
        "# Menambahkan lapisan pooling kembali\n",
        "network.add(MaxPool2D(pool_size=(2,2)))\n",
        "\n",
        "# Menambahkan lapisan konvolusi ketiga\n",
        "network.add(Conv2D(filters = 128, kernel_size=(3,3), activation='relu', padding='valid'))\n",
        "\n",
        "# Menambahkan lapisan pooling kembali\n",
        "network.add(MaxPool2D(pool_size=(2,2)))\n",
        "\n",
        "# Meratakan output menjadi vektor satu dimensi\n",
        "network.add(Flatten())\n",
        "\n",
        "# Menambahkan lapisan Dense (fully connected)\n",
        "network.add(Dense(64, activation = 'relu'))\n",
        "network.add(Dense(128, activation = 'relu'))\n",
        "\n",
        "# Menambahkan lapisan output dengan fungsi aktivasi softmax\n",
        "network.add(Dense(36, activation='softmax'))\n",
        "\n",
        "# Mengompilasi model dengan fungsi kerugian, pengoptimal, dan metrik yang diinginkan\n",
        "network.compile(loss = 'categorical_crossentropy', optimizer = 'adam', metrics = ['accuracy'])"
      ]
    },
    {
      "cell_type": "code",
      "execution_count": 81,
      "metadata": {
        "colab": {
          "base_uri": "https://localhost:8080/"
        },
        "id": "dJkq1bUD1EyH",
        "outputId": "032c8095-7324-463a-dab1-2c109aba43ce"
      },
      "outputs": [
        {
          "name": "stdout",
          "output_type": "stream",
          "text": [
            "Model: \"sequential\"\n",
            "_________________________________________________________________\n",
            " Layer (type)                Output Shape              Param #   \n",
            "=================================================================\n",
            " conv2d (Conv2D)             (None, 26, 26, 32)        320       \n",
            "                                                                 \n",
            " max_pooling2d (MaxPooling2  (None, 13, 13, 32)        0         \n",
            " D)                                                              \n",
            "                                                                 \n",
            " conv2d_1 (Conv2D)           (None, 13, 13, 64)        18496     \n",
            "                                                                 \n",
            " max_pooling2d_1 (MaxPoolin  (None, 6, 6, 64)          0         \n",
            " g2D)                                                            \n",
            "                                                                 \n",
            " conv2d_2 (Conv2D)           (None, 4, 4, 128)         73856     \n",
            "                                                                 \n",
            " max_pooling2d_2 (MaxPoolin  (None, 2, 2, 128)         0         \n",
            " g2D)                                                            \n",
            "                                                                 \n",
            " flatten (Flatten)           (None, 512)               0         \n",
            "                                                                 \n",
            " dense (Dense)               (None, 64)                32832     \n",
            "                                                                 \n",
            " dense_1 (Dense)             (None, 128)               8320      \n",
            "                                                                 \n",
            " dense_2 (Dense)             (None, 36)                4644      \n",
            "                                                                 \n",
            "=================================================================\n",
            "Total params: 138468 (540.89 KB)\n",
            "Trainable params: 138468 (540.89 KB)\n",
            "Non-trainable params: 0 (0.00 Byte)\n",
            "_________________________________________________________________\n"
          ]
        }
      ],
      "source": [
        "# Check network summary\n",
        "network.summary()"
      ]
    },
    {
      "cell_type": "code",
      "execution_count": 82,
      "metadata": {
        "colab": {
          "base_uri": "https://localhost:8080/"
        },
        "id": "pRvonbv11G54",
        "outputId": "a41168fa-da60-4497-dc38-4475a38e5246"
      },
      "outputs": [
        {
          "name": "stdout",
          "output_type": "stream",
          "text": [
            "['0', '1', '2', '3', '4', '5', '6', '7', '8', '9', 'A', 'B', 'C', 'D', 'E', 'F', 'G', 'H', 'I', 'J', 'K', 'L', 'M', 'N', 'O', 'P', 'Q', 'R', 'S', 'T', 'U', 'V', 'W', 'X', 'Y', 'Z']\n"
          ]
        }
      ],
      "source": [
        "# Create actual labels\n",
        "# Membuat daftar label yang sesuai dengan kelas-kelas dalam dataset\n",
        "name_labels = '0123456789'\n",
        "name_labels += 'ABCDEFGHIJKLMNOPQRSTUVWXYZ'\n",
        "name_labels = [l for l in name_labels]\n",
        "\n",
        "# Check actual label\n",
        "print(name_labels)"
      ]
    },
    {
      "cell_type": "markdown",
      "metadata": {
        "id": "4QvCi53N1IzV"
      },
      "source": [
        "#Train model"
      ]
    },
    {
      "cell_type": "code",
      "execution_count": 83,
      "metadata": {
        "id": "kN5-HiC51K7d"
      },
      "outputs": [],
      "source": [
        "# Set model name, epoch, and batch size\n",
        "file_model = 'custom_ocr.model' # nama file\n",
        "epochs = 20\n",
        "batch_size = 128"
      ]
    },
    {
      "cell_type": "code",
      "execution_count": 84,
      "metadata": {
        "id": "bi7YfZpz1M71"
      },
      "outputs": [],
      "source": [
        "# Setup checkpoint\n",
        "checkpointer = ModelCheckpoint(file_model, monitor = 'val_loss', verbose = 1, save_best_only=True)"
      ]
    },
    {
      "cell_type": "code",
      "execution_count": 85,
      "metadata": {
        "colab": {
          "base_uri": "https://localhost:8080/"
        },
        "id": "yxyy_T4X1QZi",
        "outputId": "19502070-a761-4dfd-d367-291343521012"
      },
      "outputs": [
        {
          "name": "stdout",
          "output_type": "stream",
          "text": [
            "Epoch 1/20\n",
            "2765/2765 [==============================] - ETA: 0s - loss: 2.2140 - accuracy: 0.8251\n",
            "Epoch 1: val_loss improved from inf to 0.32206, saving model to custom_ocr.model\n",
            "2765/2765 [==============================] - 290s 104ms/step - loss: 2.2140 - accuracy: 0.8251 - val_loss: 0.3221 - val_accuracy: 0.8679\n",
            "Epoch 2/20\n",
            "2765/2765 [==============================] - ETA: 0s - loss: 0.9714 - accuracy: 0.9018\n",
            "Epoch 2: val_loss improved from 0.32206 to 0.21063, saving model to custom_ocr.model\n",
            "2765/2765 [==============================] - 311s 113ms/step - loss: 0.9714 - accuracy: 0.9018 - val_loss: 0.2106 - val_accuracy: 0.9149\n",
            "Epoch 3/20\n",
            "2765/2765 [==============================] - ETA: 0s - loss: 0.8038 - accuracy: 0.9138\n",
            "Epoch 3: val_loss improved from 0.21063 to 0.20585, saving model to custom_ocr.model\n",
            "2765/2765 [==============================] - 297s 107ms/step - loss: 0.8038 - accuracy: 0.9138 - val_loss: 0.2059 - val_accuracy: 0.9138\n",
            "Epoch 4/20\n",
            "2765/2765 [==============================] - ETA: 0s - loss: 0.7260 - accuracy: 0.9205\n",
            "Epoch 4: val_loss did not improve from 0.20585\n",
            "2765/2765 [==============================] - 285s 103ms/step - loss: 0.7260 - accuracy: 0.9205 - val_loss: 0.2732 - val_accuracy: 0.8698\n",
            "Epoch 5/20\n",
            "2765/2765 [==============================] - ETA: 0s - loss: 0.6697 - accuracy: 0.9249\n",
            "Epoch 5: val_loss did not improve from 0.20585\n",
            "2765/2765 [==============================] - 289s 104ms/step - loss: 0.6697 - accuracy: 0.9249 - val_loss: 0.2794 - val_accuracy: 0.8780\n",
            "Epoch 6/20\n",
            "2765/2765 [==============================] - ETA: 0s - loss: 0.6190 - accuracy: 0.9294\n",
            "Epoch 6: val_loss did not improve from 0.20585\n",
            "2765/2765 [==============================] - 284s 103ms/step - loss: 0.6190 - accuracy: 0.9294 - val_loss: 0.3205 - val_accuracy: 0.8695\n",
            "Epoch 7/20\n",
            "2765/2765 [==============================] - ETA: 0s - loss: 0.5873 - accuracy: 0.9326\n",
            "Epoch 7: val_loss did not improve from 0.20585\n",
            "2765/2765 [==============================] - 284s 103ms/step - loss: 0.5873 - accuracy: 0.9326 - val_loss: 0.3005 - val_accuracy: 0.8731\n",
            "Epoch 8/20\n",
            "2765/2765 [==============================] - ETA: 0s - loss: 0.5519 - accuracy: 0.9343\n",
            "Epoch 8: val_loss did not improve from 0.20585\n",
            "2765/2765 [==============================] - 284s 103ms/step - loss: 0.5519 - accuracy: 0.9343 - val_loss: 0.2522 - val_accuracy: 0.8851\n",
            "Epoch 9/20\n",
            "2765/2765 [==============================] - ETA: 0s - loss: 0.5311 - accuracy: 0.9365\n",
            "Epoch 9: val_loss did not improve from 0.20585\n",
            "2765/2765 [==============================] - 282s 102ms/step - loss: 0.5311 - accuracy: 0.9365 - val_loss: 0.3441 - val_accuracy: 0.8503\n",
            "Epoch 10/20\n",
            "2765/2765 [==============================] - ETA: 0s - loss: 0.5187 - accuracy: 0.9373\n",
            "Epoch 10: val_loss did not improve from 0.20585\n",
            "2765/2765 [==============================] - 282s 102ms/step - loss: 0.5187 - accuracy: 0.9373 - val_loss: 0.2639 - val_accuracy: 0.8894\n",
            "Epoch 11/20\n",
            "2765/2765 [==============================] - ETA: 0s - loss: 0.5043 - accuracy: 0.9390\n",
            "Epoch 11: val_loss did not improve from 0.20585\n",
            "2765/2765 [==============================] - 281s 102ms/step - loss: 0.5043 - accuracy: 0.9390 - val_loss: 0.2433 - val_accuracy: 0.8942\n",
            "Epoch 12/20\n",
            "2765/2765 [==============================] - ETA: 0s - loss: 0.4836 - accuracy: 0.9404\n",
            "Epoch 12: val_loss did not improve from 0.20585\n",
            "2765/2765 [==============================] - 281s 101ms/step - loss: 0.4836 - accuracy: 0.9404 - val_loss: 0.2342 - val_accuracy: 0.8982\n",
            "Epoch 13/20\n",
            "2765/2765 [==============================] - ETA: 0s - loss: 0.4735 - accuracy: 0.9419\n",
            "Epoch 13: val_loss did not improve from 0.20585\n",
            "2765/2765 [==============================] - 282s 102ms/step - loss: 0.4735 - accuracy: 0.9419 - val_loss: 0.2373 - val_accuracy: 0.9008\n",
            "Epoch 14/20\n",
            "2765/2765 [==============================] - ETA: 0s - loss: 0.4640 - accuracy: 0.9430\n",
            "Epoch 14: val_loss did not improve from 0.20585\n",
            "2765/2765 [==============================] - 283s 102ms/step - loss: 0.4640 - accuracy: 0.9430 - val_loss: 0.2471 - val_accuracy: 0.8938\n",
            "Epoch 15/20\n",
            "2765/2765 [==============================] - ETA: 0s - loss: 0.4467 - accuracy: 0.9450\n",
            "Epoch 15: val_loss improved from 0.20585 to 0.16043, saving model to custom_ocr.model\n",
            "2765/2765 [==============================] - 284s 103ms/step - loss: 0.4467 - accuracy: 0.9450 - val_loss: 0.1604 - val_accuracy: 0.9432\n",
            "Epoch 16/20\n",
            "2765/2765 [==============================] - ETA: 0s - loss: 0.4407 - accuracy: 0.9468\n",
            "Epoch 16: val_loss improved from 0.16043 to 0.14382, saving model to custom_ocr.model\n",
            "2765/2765 [==============================] - 283s 102ms/step - loss: 0.4407 - accuracy: 0.9468 - val_loss: 0.1438 - val_accuracy: 0.9531\n",
            "Epoch 17/20\n",
            "2765/2765 [==============================] - ETA: 0s - loss: 0.4329 - accuracy: 0.9472\n",
            "Epoch 17: val_loss did not improve from 0.14382\n",
            "2765/2765 [==============================] - 283s 102ms/step - loss: 0.4329 - accuracy: 0.9472 - val_loss: 0.1475 - val_accuracy: 0.9479\n",
            "Epoch 18/20\n",
            "2765/2765 [==============================] - ETA: 0s - loss: 0.4281 - accuracy: 0.9478\n",
            "Epoch 18: val_loss did not improve from 0.14382\n",
            "2765/2765 [==============================] - 281s 102ms/step - loss: 0.4281 - accuracy: 0.9478 - val_loss: 0.1872 - val_accuracy: 0.9200\n",
            "Epoch 19/20\n",
            "2765/2765 [==============================] - ETA: 0s - loss: 0.4196 - accuracy: 0.9479\n",
            "Epoch 19: val_loss did not improve from 0.14382\n",
            "2765/2765 [==============================] - 283s 102ms/step - loss: 0.4196 - accuracy: 0.9479 - val_loss: 0.1675 - val_accuracy: 0.9311\n",
            "Epoch 20/20\n",
            "2765/2765 [==============================] - ETA: 0s - loss: 0.4121 - accuracy: 0.9498\n",
            "Epoch 20: val_loss improved from 0.14382 to 0.13792, saving model to custom_ocr.model\n",
            "2765/2765 [==============================] - 283s 102ms/step - loss: 0.4121 - accuracy: 0.9498 - val_loss: 0.1379 - val_accuracy: 0.9499\n"
          ]
        }
      ],
      "source": [
        "# Fit the model\n",
        "# latih model\n",
        "history = network.fit(augmentation.flow(X_train, y_train, batch_size=batch_size),# Generator augmented data\n",
        "                      validation_data = (X_test, y_test),# Data validasi\n",
        "                      steps_per_epoch = len(X_train) // batch_size, epochs=epochs, # Jumlah batch per epoch\n",
        "                      class_weight = classes_weights, verbose=1, callbacks=[checkpointer])# Menggunakan ModelCheckpoint untuk menyimpan model terbaik"
      ]
    },
    {
      "cell_type": "markdown",
      "metadata": {
        "id": "T584RGtX1Tv-"
      },
      "source": [
        "Dari proses pelatuhan dengan 20 epoch, maka dapat dilhat bahwa nilai kurasi data tiap iterasi makin naik"
      ]
    },
    {
      "cell_type": "markdown",
      "metadata": {
        "id": "mMmz137j1Wwy"
      },
      "source": [
        "#Evaluate Model"
      ]
    },
    {
      "cell_type": "markdown",
      "metadata": {
        "id": "pzDZ554A1ZNS"
      },
      "source": [
        "#Make a Single Prediction"
      ]
    },
    {
      "cell_type": "code",
      "execution_count": 86,
      "metadata": {
        "colab": {
          "base_uri": "https://localhost:8080/"
        },
        "id": "IgAoM2eJ1b8e",
        "outputId": "1bc721d7-2106-4fd7-ee6f-16f796aa09da"
      },
      "outputs": [
        {
          "name": "stdout",
          "output_type": "stream",
          "text": [
            "692/692 [==============================] - 16s 23ms/step\n"
          ]
        }
      ],
      "source": [
        "# make a prediction\n",
        "predictions = network.predict(X_test, batch_size=batch_size) # Membuat prediksi menggunakan model pada dataset pengujian"
      ]
    },
    {
      "cell_type": "code",
      "execution_count": 87,
      "metadata": {
        "colab": {
          "base_uri": "https://localhost:8080/"
        },
        "id": "e1DLzYRD1eGy",
        "outputId": "bf31cf0d-d1dd-41c8-c19d-e182c1226025"
      },
      "outputs": [
        {
          "data": {
            "text/plain": [
              "array([1.4139840e-16, 2.0981264e-10, 1.2127880e-11, 4.9518867e-15,\n",
              "       4.1917775e-20, 8.7913075e-13, 1.2768281e-17, 6.5947530e-17,\n",
              "       1.1744602e-13, 1.3165804e-17, 1.3616974e-19, 4.7425844e-12,\n",
              "       4.8537645e-12, 8.2180779e-10, 7.4205978e-16, 8.5152942e-15,\n",
              "       3.6207318e-10, 1.4409904e-19, 9.9999148e-01, 8.3858504e-06,\n",
              "       2.6404282e-14, 5.4060121e-09, 4.0845680e-19, 9.4561424e-16,\n",
              "       1.2537549e-13, 2.0094804e-13, 1.9776826e-15, 7.3709998e-16,\n",
              "       2.9508071e-10, 7.1571904e-08, 2.9492075e-11, 1.8281707e-16,\n",
              "       1.3931370e-21, 5.8987962e-16, 6.8909399e-11, 4.9070142e-10],\n",
              "      dtype=float32)"
            ]
          },
          "execution_count": 87,
          "metadata": {},
          "output_type": "execute_result"
        }
      ],
      "source": [
        "# Check prediction for data-0\n",
        "# You will get the probability for each label\n",
        "# The highest one is the prediction\n",
        "predictions[1]"
      ]
    },
    {
      "cell_type": "code",
      "execution_count": 88,
      "metadata": {
        "colab": {
          "base_uri": "https://localhost:8080/"
        },
        "id": "msm06oyX1gGn",
        "outputId": "d34a3d7e-1756-4af2-a1ff-5c6487c71674"
      },
      "outputs": [
        {
          "data": {
            "text/plain": [
              "18"
            ]
          },
          "execution_count": 88,
          "metadata": {},
          "output_type": "execute_result"
        }
      ],
      "source": [
        "# Get the actual prediction -> highest probability\n",
        "np.argmax(predictions[1]) # mengembalikan indeks kelas dengan nilai probabilitas tertinggi"
      ]
    },
    {
      "cell_type": "code",
      "execution_count": 89,
      "metadata": {
        "colab": {
          "base_uri": "https://localhost:8080/",
          "height": 36
        },
        "id": "FolEvWs61iCs",
        "outputId": "4773cc13-8c1c-4812-d48e-fa468693ccab"
      },
      "outputs": [
        {
          "data": {
            "application/vnd.google.colaboratory.intrinsic+json": {
              "type": "string"
            },
            "text/plain": [
              "'I'"
            ]
          },
          "execution_count": 89,
          "metadata": {},
          "output_type": "execute_result"
        }
      ],
      "source": [
        "# Check label for 24\n",
        "name_labels[18] # cek label indeks 18"
      ]
    },
    {
      "cell_type": "code",
      "execution_count": 90,
      "metadata": {
        "colab": {
          "base_uri": "https://localhost:8080/"
        },
        "id": "I19FAmjo1kIB",
        "outputId": "ad544f18-4e20-436b-dac8-dca14e551051"
      },
      "outputs": [
        {
          "data": {
            "text/plain": [
              "array([0, 0, 0, 0, 0, 0, 0, 0, 0, 0, 0, 0, 0, 0, 0, 0, 0, 0, 1, 0, 0, 0,\n",
              "       0, 0, 0, 0, 0, 0, 0, 0, 0, 0, 0, 0, 0, 0])"
            ]
          },
          "execution_count": 90,
          "metadata": {},
          "output_type": "execute_result"
        }
      ],
      "source": [
        "# Check y_test label for 0\n",
        "y_test[1]"
      ]
    },
    {
      "cell_type": "code",
      "execution_count": 91,
      "metadata": {
        "colab": {
          "base_uri": "https://localhost:8080/"
        },
        "id": "GbBvMi1g1mAF",
        "outputId": "30c481db-0087-4057-e49d-71cb85e7dbf1"
      },
      "outputs": [
        {
          "data": {
            "text/plain": [
              "18"
            ]
          },
          "execution_count": 91,
          "metadata": {},
          "output_type": "execute_result"
        }
      ],
      "source": [
        "# check the highest value\n",
        "np.argmax(y_test[1])"
      ]
    },
    {
      "cell_type": "code",
      "execution_count": 92,
      "metadata": {
        "colab": {
          "base_uri": "https://localhost:8080/",
          "height": 36
        },
        "id": "1zZ37pF21nlO",
        "outputId": "7f873345-cb9b-4d0b-ea11-4b634522e123"
      },
      "outputs": [
        {
          "data": {
            "application/vnd.google.colaboratory.intrinsic+json": {
              "type": "string"
            },
            "text/plain": [
              "'S'"
            ]
          },
          "execution_count": 92,
          "metadata": {},
          "output_type": "execute_result"
        }
      ],
      "source": [
        "# Check the label of y_test 0\n",
        "name_labels[np.argmax(y_test[18])]"
      ]
    },
    {
      "cell_type": "markdown",
      "metadata": {
        "id": "i9kK0vBM1pOD"
      },
      "source": [
        "#Make an Evaluation on Test Data"
      ]
    },
    {
      "cell_type": "code",
      "execution_count": 93,
      "metadata": {
        "colab": {
          "base_uri": "https://localhost:8080/"
        },
        "id": "6R_iGUWE1rsX",
        "outputId": "678811ec-6259-46ca-c08e-15da7533c55a"
      },
      "outputs": [
        {
          "name": "stdout",
          "output_type": "stream",
          "text": [
            "2766/2766 [==============================] - 22s 8ms/step - loss: 0.1379 - accuracy: 0.9499\n"
          ]
        },
        {
          "data": {
            "text/plain": [
              "[0.13791979849338531, 0.9499039649963379]"
            ]
          },
          "execution_count": 93,
          "metadata": {},
          "output_type": "execute_result"
        }
      ],
      "source": [
        "# Evaluate on test data\n",
        "network.evaluate(X_test, y_test) # # Mengevaluasi model pada dataset pengujian"
      ]
    },
    {
      "cell_type": "code",
      "execution_count": 94,
      "metadata": {
        "colab": {
          "base_uri": "https://localhost:8080/"
        },
        "id": "XTBgfRDe1uRs",
        "outputId": "a1f0afd9-849a-4e45-b10f-bf86d6cf7707"
      },
      "outputs": [
        {
          "name": "stdout",
          "output_type": "stream",
          "text": [
            "              precision    recall  f1-score   support\n",
            "\n",
            "           0       0.31      0.70      0.43      1381\n",
            "           1       0.97      0.99      0.98      1575\n",
            "           2       0.94      0.95      0.95      1398\n",
            "           3       0.98      0.99      0.98      1428\n",
            "           4       0.92      0.96      0.94      1365\n",
            "           5       0.78      0.92      0.85      1263\n",
            "           6       0.97      0.96      0.97      1375\n",
            "           7       0.97      0.99      0.98      1459\n",
            "           8       0.95      0.99      0.97      1365\n",
            "           9       0.95      0.99      0.97      1392\n",
            "           A       0.99      0.99      0.99      2774\n",
            "           B       0.98      0.98      0.98      1734\n",
            "           C       0.98      0.99      0.99      4682\n",
            "           D       0.94      0.96      0.95      2027\n",
            "           E       0.98      0.99      0.99      2288\n",
            "           F       0.91      1.00      0.95       233\n",
            "           G       0.96      0.96      0.96      1152\n",
            "           H       0.96      0.98      0.97      1444\n",
            "           I       0.96      0.99      0.97       224\n",
            "           J       0.99      0.97      0.98      1698\n",
            "           K       0.96      0.99      0.98      1121\n",
            "           L       0.99      0.96      0.97      2317\n",
            "           M       0.99      1.00      0.99      2467\n",
            "           N       0.99      0.98      0.99      3802\n",
            "           O       0.95      0.81      0.88     11565\n",
            "           P       0.99      0.99      0.99      3868\n",
            "           Q       0.96      0.98      0.97      1162\n",
            "           R       0.99      0.99      0.99      2313\n",
            "           S       0.99      0.96      0.97      9684\n",
            "           T       1.00      0.98      0.99      4499\n",
            "           U       0.99      0.98      0.99      5801\n",
            "           V       0.97      1.00      0.98       836\n",
            "           W       0.98      0.99      0.98      2157\n",
            "           X       0.99      0.98      0.99      1254\n",
            "           Y       0.98      0.94      0.96      2172\n",
            "           Z       0.95      0.95      0.95      1215\n",
            "\n",
            "    accuracy                           0.95     88490\n",
            "   macro avg       0.95      0.97      0.95     88490\n",
            "weighted avg       0.96      0.95      0.95     88490\n",
            "\n"
          ]
        }
      ],
      "source": [
        "# Print Classification Report\n",
        "print(classification_report(y_test.argmax(axis=1), predictions.argmax(axis=1), target_names = name_labels))"
      ]
    },
    {
      "cell_type": "code",
      "execution_count": 95,
      "metadata": {
        "colab": {
          "base_uri": "https://localhost:8080/",
          "height": 447
        },
        "id": "7pWZhHiw1xLE",
        "outputId": "e98b9154-de14-4bca-fdc3-e620c29e2557"
      },
      "outputs": [
        {
          "data": {
            "text/plain": [
              "[<matplotlib.lines.Line2D at 0x79cefed32b60>]"
            ]
          },
          "execution_count": 95,
          "metadata": {},
          "output_type": "execute_result"
        },
        {
          "data": {
            "image/png": "[encoded data removed]",
            "text/plain": [
              "<Figure size 640x480 with 1 Axes>"
            ]
          },
          "metadata": {},
          "output_type": "display_data"
        }
      ],
      "source": [
        "# Visualize loss value for each epoch\n",
        "plt.plot(history.history['val_loss']) # Membuat plot nilai fungsi kerugian pada data validasi"
      ]
    },
    {
      "cell_type": "markdown",
      "metadata": {
        "id": "wMef85TM1zge"
      },
      "source": [
        "Dari grafik tersebut dapat dilihat bahwa nilai fungsi kerugian pada data validasi lebih kecil dari pada akhir pelatihan dibandingkan awal, yang dapat diartikan bahwa model berhasil belajar dan menuingkatkan kinerjanya."
      ]
    },
    {
      "cell_type": "code",
      "execution_count": 96,
      "metadata": {
        "colab": {
          "base_uri": "https://localhost:8080/"
        },
        "id": "SQYaUwQy106F",
        "outputId": "0cd3a8e5-9d0d-4040-f4a3-4fa627781621"
      },
      "outputs": [
        {
          "data": {
            "text/plain": [
              "dict_keys(['loss', 'accuracy', 'val_loss', 'val_accuracy'])"
            ]
          },
          "execution_count": 96,
          "metadata": {},
          "output_type": "execute_result"
        }
      ],
      "source": [
        "# You can also check the another metrics\n",
        "history.history.keys()"
      ]
    },
    {
      "cell_type": "code",
      "execution_count": 97,
      "metadata": {
        "colab": {
          "base_uri": "https://localhost:8080/",
          "height": 447
        },
        "id": "BcYISTSk12hr",
        "outputId": "cf0fb16f-45ba-47fb-90ef-f29fff0db17b"
      },
      "outputs": [
        {
          "data": {
            "text/plain": [
              "[<matplotlib.lines.Line2D at 0x79cefeb9bd60>]"
            ]
          },
          "execution_count": 97,
          "metadata": {},
          "output_type": "execute_result"
        },
        {
          "data": {
            "image/png": "[encoded data removed]",
            "text/plain": [
              "<Figure size 640x480 with 1 Axes>"
            ]
          },
          "metadata": {},
          "output_type": "display_data"
        }
      ],
      "source": [
        "# Check the model performance by validation accuracy\n",
        "plt.plot(history.history['val_accuracy'])"
      ]
    },
    {
      "cell_type": "markdown",
      "metadata": {
        "id": "RcBjRGDI14uG"
      },
      "source": [
        "Dari grafik tersebut menunjukkan bahwa akurasi meningkat seiring waktu,dan menunjukkan model berhasil belajar dan meningkatkan kinerjanya pada data validasi."
      ]
    },
    {
      "cell_type": "markdown",
      "metadata": {
        "id": "cJEy2LU216iZ"
      },
      "source": [
        "#Save The Model"
      ]
    },
    {
      "cell_type": "code",
      "execution_count": 98,
      "metadata": {
        "colab": {
          "base_uri": "https://localhost:8080/"
        },
        "id": "fYyuy4CE1802",
        "outputId": "b0c7ac16-0877-4dee-db83-ecd9f0ae55f7"
      },
      "outputs": [
        {
          "name": "stderr",
          "output_type": "stream",
          "text": [
            "/usr/local/lib/python3.10/dist-packages/keras/src/engine/training.py:3079: UserWarning: You are saving your model as an HDF5 file via `model.save()`. This file format is considered legacy. We recommend using instead the native Keras format, e.g. `model.save('my_model.keras')`.\n",
            "  saving_api.save_model(\n"
          ]
        }
      ],
      "source": [
        "# The result will show in colab directory\n",
        "network.save('network', save_format= 'h5') # menyimpan seluruh model kedalam sebuah file"
      ]
    },
    {
      "cell_type": "markdown",
      "metadata": {
        "id": "eYYZUTS71-sV"
      },
      "source": [
        "#Testing on Real Image"
      ]
    },
    {
      "cell_type": "code",
      "execution_count": 99,
      "metadata": {
        "id": "5P-mnxw-2B8u"
      },
      "outputs": [],
      "source": [
        "# Import library\n",
        "from tensorflow.keras.models import load_model"
      ]
    },
    {
      "cell_type": "code",
      "execution_count": 100,
      "metadata": {
        "id": "c30Yr16n2DkJ"
      },
      "outputs": [],
      "source": [
        "# Load saved network\n",
        "load_network = load_model('network')"
      ]
    },
    {
      "cell_type": "code",
      "execution_count": 101,
      "metadata": {
        "colab": {
          "base_uri": "https://localhost:8080/"
        },
        "id": "0nANfsYS2Fh8",
        "outputId": "be41061d-5921-4c9e-cc9f-8364a3fe541e"
      },
      "outputs": [
        {
          "name": "stdout",
          "output_type": "stream",
          "text": [
            "Model: \"sequential\"\n",
            "_________________________________________________________________\n",
            " Layer (type)                Output Shape              Param #   \n",
            "=================================================================\n",
            " conv2d (Conv2D)             (None, 26, 26, 32)        320       \n",
            "                                                                 \n",
            " max_pooling2d (MaxPooling2  (None, 13, 13, 32)        0         \n",
            " D)                                                              \n",
            "                                                                 \n",
            " conv2d_1 (Conv2D)           (None, 13, 13, 64)        18496     \n",
            "                                                                 \n",
            " max_pooling2d_1 (MaxPoolin  (None, 6, 6, 64)          0         \n",
            " g2D)                                                            \n",
            "                                                                 \n",
            " conv2d_2 (Conv2D)           (None, 4, 4, 128)         73856     \n",
            "                                                                 \n",
            " max_pooling2d_2 (MaxPoolin  (None, 2, 2, 128)         0         \n",
            " g2D)                                                            \n",
            "                                                                 \n",
            " flatten (Flatten)           (None, 512)               0         \n",
            "                                                                 \n",
            " dense (Dense)               (None, 64)                32832     \n",
            "                                                                 \n",
            " dense_1 (Dense)             (None, 128)               8320      \n",
            "                                                                 \n",
            " dense_2 (Dense)             (None, 36)                4644      \n",
            "                                                                 \n",
            "=================================================================\n",
            "Total params: 138468 (540.89 KB)\n",
            "Trainable params: 138468 (540.89 KB)\n",
            "Non-trainable params: 0 (0.00 Byte)\n",
            "_________________________________________________________________\n"
          ]
        }
      ],
      "source": [
        "# Check summary\n",
        "load_network.summary()"
      ]
    },
    {
      "cell_type": "code",
      "execution_count": 103,
      "metadata": {
        "colab": {
          "base_uri": "https://localhost:8080/",
          "height": 317
        },
        "id": "Jo4FV_wf4jOa",
        "outputId": "6dd53546-78ce-4f9f-d945-e0a35f98e410"
      },
      "outputs": [
        {
          "data": {
            "image/png": "[encoded data removed]",
            "text/plain": [
              "<PIL.Image.Image image mode=RGB size=300x300>"
            ]
          },
          "metadata": {},
          "output_type": "display_data"
        }
      ],
      "source": [
        "# Load Image\n",
        "import cv2\n",
        "from google.colab.patches import cv2_imshow\n",
        "\n",
        "img = cv2.imread('b_small.png')\n",
        "cv2_imshow(img)"
      ]
    },
    {
      "cell_type": "code",
      "execution_count": 104,
      "metadata": {
        "colab": {
          "base_uri": "https://localhost:8080/"
        },
        "id": "KO-vjyuN4lqf",
        "outputId": "8cd22625-e8e4-433c-b8b3-52ae2aab9cd8"
      },
      "outputs": [
        {
          "data": {
            "text/plain": [
              "(300, 300, 3)"
            ]
          },
          "execution_count": 104,
          "metadata": {},
          "output_type": "execute_result"
        }
      ],
      "source": [
        "# Check shape\n",
        "img.shape"
      ]
    },
    {
      "cell_type": "code",
      "execution_count": 105,
      "metadata": {
        "colab": {
          "base_uri": "https://localhost:8080/"
        },
        "id": "2_acTur04ljR",
        "outputId": "f48ea332-93f9-487c-c798-565342a58ae5"
      },
      "outputs": [
        {
          "data": {
            "text/plain": [
              "(300, 300)"
            ]
          },
          "execution_count": 105,
          "metadata": {},
          "output_type": "execute_result"
        }
      ],
      "source": [
        "# Convert to gray\n",
        "gray_img = cv2.cvtColor(img, cv2.COLOR_BGR2GRAY)\n",
        "\n",
        "# check shape\n",
        "gray_img.shape"
      ]
    },
    {
      "cell_type": "code",
      "execution_count": 106,
      "metadata": {
        "colab": {
          "base_uri": "https://localhost:8080/",
          "height": 334
        },
        "id": "-TiJZwm64ldP",
        "outputId": "05a506f2-5ef0-431d-af1f-4710470ed12e"
      },
      "outputs": [
        {
          "data": {
            "image/png": "[encoded data removed]",
            "text/plain": [
              "<PIL.Image.Image image mode=L size=300x300>"
            ]
          },
          "metadata": {},
          "output_type": "display_data"
        },
        {
          "name": "stdout",
          "output_type": "stream",
          "text": [
            "120.0\n"
          ]
        }
      ],
      "source": [
        "# Pre-process\n",
        "# Binary Threshold and Otsu\n",
        "value, thresh = cv2.threshold(gray_img, 0, 255, cv2.THRESH_BINARY + cv2.THRESH_OTSU)\n",
        "\n",
        "cv2_imshow(thresh)\n",
        "\n",
        "# print threshold value\n",
        "print(value)"
      ]
    },
    {
      "cell_type": "code",
      "execution_count": 107,
      "metadata": {
        "colab": {
          "base_uri": "https://localhost:8080/",
          "height": 45
        },
        "id": "ZhqxDybI4lVv",
        "outputId": "a6cc29c3-c6fb-4542-8de3-fbe715737596"
      },
      "outputs": [
        {
          "data": {
            "image/png": "[encoded data removed]",
            "text/plain": [
              "<PIL.Image.Image image mode=L size=28x28>"
            ]
          },
          "metadata": {},
          "output_type": "display_data"
        }
      ],
      "source": [
        "# Resize image in order to match network input shape -> 28*28\n",
        "img_resize = cv2.resize(gray_img, (28,28))\n",
        "cv2_imshow(img_resize)"
      ]
    },
    {
      "cell_type": "code",
      "execution_count": 108,
      "metadata": {
        "colab": {
          "base_uri": "https://localhost:8080/"
        },
        "id": "1lVjpOm04trP",
        "outputId": "5662bd67-997c-423f-dc48-6635789299b4"
      },
      "outputs": [
        {
          "data": {
            "text/plain": [
              "(28, 28, 1)"
            ]
          },
          "execution_count": 108,
          "metadata": {},
          "output_type": "execute_result"
        }
      ],
      "source": [
        "# Convert to float 32\n",
        "# and extend the dimension since network input shape is 28*28*1\n",
        "img_input = img_resize.astype('float32') / 255 # also perform normalization\n",
        "img_input = np.expand_dims(img_input, axis=-1) # insert depth\n",
        "\n",
        "# check shape\n",
        "img_input.shape"
      ]
    },
    {
      "cell_type": "code",
      "execution_count": 109,
      "metadata": {
        "colab": {
          "base_uri": "https://localhost:8080/"
        },
        "id": "3iqfG6FT4wfh",
        "outputId": "cdefb392-d82f-44e2-a59a-8fc6076c4fa9"
      },
      "outputs": [
        {
          "data": {
            "text/plain": [
              "(1, 28, 28, 1)"
            ]
          },
          "execution_count": 109,
          "metadata": {},
          "output_type": "execute_result"
        }
      ],
      "source": [
        "# Add \"amount of data\" as dimension\n",
        "img_input = np.reshape(img_input, (1,28,28,1))\n",
        "img_input.shape"
      ]
    },
    {
      "cell_type": "code",
      "execution_count": 110,
      "metadata": {
        "colab": {
          "base_uri": "https://localhost:8080/"
        },
        "id": "55WUCEFr4wdf",
        "outputId": "c128915f-c7d2-4a0e-eed4-2722023b88d7"
      },
      "outputs": [
        {
          "name": "stdout",
          "output_type": "stream",
          "text": [
            "1/1 [==============================] - 0s 82ms/step\n"
          ]
        },
        {
          "data": {
            "text/plain": [
              "6"
            ]
          },
          "execution_count": 110,
          "metadata": {},
          "output_type": "execute_result"
        }
      ],
      "source": [
        "# Make a predition\n",
        "prediction = load_network.predict(img_input)\n",
        "pred_label = np.argmax(prediction) # predict actual label\n",
        "pred_label"
      ]
    },
    {
      "cell_type": "code",
      "execution_count": 111,
      "metadata": {
        "colab": {
          "base_uri": "https://localhost:8080/",
          "height": 36
        },
        "id": "rHaxlDzp4wa4",
        "outputId": "1986a0ae-5981-4ebd-e2ca-5d0144900ea3"
      },
      "outputs": [
        {
          "data": {
            "application/vnd.google.colaboratory.intrinsic+json": {
              "type": "string"
            },
            "text/plain": [
              "'6'"
            ]
          },
          "execution_count": 111,
          "metadata": {},
          "output_type": "execute_result"
        }
      ],
      "source": [
        "# check label for 6\n",
        "name_labels[6]"
      ]
    },
    {
      "cell_type": "markdown",
      "metadata": {
        "id": "_TfZHVw5eRFI"
      },
      "source": [
        "#KESIMPULAN"
      ]
    },
    {
      "cell_type": "markdown",
      "metadata": {
        "id": "To0ZCgAYePWo"
      },
      "source": [
        "Program di atas adalah implementasi pengolahan data dan pembuatan model Convolutional Neural Network (CNN) dengan menggabungkan dataset MNIST dan Kaggle A-Z. Model CNN dilatih menggunakan data tersebut, dievaluasi, dan disimpan untuk penggunaan selanjutnya. Hasilnya diuji menggunakan gambar di luar dataset.\n",
        "\n",
        "Selanjutnya, model CNN digunakan untuk memprediksi nilai dari gambar \"b_small.jpg\", dan hasilnya adalah nilai prediksi 6, sesuai dengan label ke-6 dalam daftar name_labels, yang merupakan huruf G. Kesimpulannya, model CNN berhasil memprediksi dengan benar huruf pada gambar yang tidak termasuk dalam dataset pelatihan."
      ]
    }
  ],
  "metadata": {
    "colab": {
      "authorship_tag": "ABX9TyPCRKmhsl7uO1UBwjujrE1X",
      "include_colab_link": true,
      "provenance": []
    },
    "kernelspec": {
      "display_name": "Python 3",
      "name": "python3"
    },
    "language_info": {
      "name": "python"
    }
  },
  "nbformat": 4,
  "nbformat_minor": 0
}
